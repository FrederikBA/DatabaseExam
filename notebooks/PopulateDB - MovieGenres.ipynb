{
 "cells": [
  {
   "cell_type": "code",
   "execution_count": 1,
   "id": "b07cbc34",
   "metadata": {},
   "outputs": [],
   "source": [
    "import pandas as pd\n",
    "import csv\n",
    "import pymssql"
   ]
  },
  {
   "cell_type": "code",
   "execution_count": 2,
   "id": "8420f5e2",
   "metadata": {},
   "outputs": [],
   "source": [
    "# Connect to MSSQL database\n",
    "server = 'localhost'\n",
    "database = 'BockBluster'\n",
    "username = 'sa'\n",
    "password = 'thisIsSuperStrong1234'\n",
    "\n",
    "connection = pymssql.connect(server=server, database=database, user=username, password=password)\n",
    "cursor = connection.cursor()\n",
    "\n",
    "# Define the SQL query\n",
    "query = \"SELECT * FROM genre\"\n",
    "\n",
    "# Execute the query\n",
    "cursor.execute(query)\n",
    "\n",
    "# Fetch all the rows\n",
    "rows = cursor.fetchall()\n",
    "\n",
    "# Create an empty list\n",
    "data_list = []\n",
    "\n",
    "# Iterate over the rows and extract values into the list\n",
    "for row in rows:\n",
    "    value1 = row[0]\n",
    "    value2 = row[1]\n",
    "    dictionary = {'id': value1, 'name': value2}\n",
    "    data_list.append(dictionary)\n",
    "\n",
    "# Close the cursor and the connection\n",
    "cursor.close()\n",
    "connection.close()"
   ]
  },
  {
   "cell_type": "code",
   "execution_count": 3,
   "id": "859107cf",
   "metadata": {},
   "outputs": [],
   "source": [
    "df = pd.read_csv('../data/movies.csv')"
   ]
  },
  {
   "cell_type": "code",
   "execution_count": 4,
   "id": "716423ac",
   "metadata": {},
   "outputs": [],
   "source": [
    "df['genre'] = df['genre'].apply(lambda x: x.split(', '))\n",
    "\n",
    "df['genre'] = df['genre'].apply(lambda x: list(set(x)))\n",
    "\n",
    "df_new = df[['id', 'genre']]\n",
    "\n",
    "df_new = df_new.explode('genre')"
   ]
  },
  {
   "cell_type": "code",
   "execution_count": 5,
   "id": "ad01be2b",
   "metadata": {},
   "outputs": [],
   "source": [
    "movies_list = df_new.to_dict(orient='records')\n",
    "\n",
    "\n",
    "mapping = []\n",
    "for movie in movies_list:\n",
    "    movie_id = movie['id']\n",
    "    genre_name = movie['genre']\n",
    "    for genre in data_list:\n",
    "        if genre['name'] == genre_name:\n",
    "            genre_id = genre['id']\n",
    "            new_movie = {'movie_id': movie_id, 'genre_id': genre_id}\n",
    "            mapping.append(new_movie)\n",
    "            break"
   ]
  },
  {
   "cell_type": "code",
   "execution_count": 6,
   "id": "37633bac",
   "metadata": {},
   "outputs": [],
   "source": [
    "# Connect to MSSQL database\n",
    "server = 'localhost'\n",
    "database = 'BockBluster'\n",
    "username = 'sa'\n",
    "password = 'thisIsSuperStrong1234'\n",
    "\n",
    "connection = pymssql.connect(server=server, database=database, user=username, password=password)\n",
    "\n",
    "# Insert dictionaries into the table\n",
    "cursor = connection.cursor()\n",
    "for dictionary in mapping:\n",
    "    cursor.execute(\"INSERT INTO movie_genre (movie_id, genre_id) VALUES (%s, %s)\", (dictionary['movie_id'], dictionary['genre_id']))\n",
    "\n",
    "# Commit the changes and close the connection\n",
    "connection.commit()\n",
    "connection.close()"
   ]
  }
 ],
 "metadata": {
  "kernelspec": {
   "display_name": "Python 3 (ipykernel)",
   "language": "python",
   "name": "python3"
  },
  "language_info": {
   "codemirror_mode": {
    "name": "ipython",
    "version": 3
   },
   "file_extension": ".py",
   "mimetype": "text/x-python",
   "name": "python",
   "nbconvert_exporter": "python",
   "pygments_lexer": "ipython3",
   "version": "3.9.12"
  }
 },
 "nbformat": 4,
 "nbformat_minor": 5
}
