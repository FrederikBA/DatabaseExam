{
 "cells": [
  {
   "cell_type": "code",
   "execution_count": 1,
   "id": "8259ed65",
   "metadata": {},
   "outputs": [],
   "source": [
    "import pandas as pd\n",
    "import csv\n",
    "import pymssql"
   ]
  },
  {
   "cell_type": "code",
   "execution_count": 2,
   "id": "23963602",
   "metadata": {},
   "outputs": [],
   "source": [
    "# Connect to MSSQL database\n",
    "server = 'localhost'\n",
    "database = 'BockBluster'\n",
    "username = 'sa'\n",
    "password = 'thisIsSuperStrong1234'\n",
    "\n",
    "connection = pymssql.connect(server=server, database=database, user=username, password=password)\n",
    "cursor = connection.cursor()\n",
    "\n",
    "# Define the SQL query\n",
    "query = \"SELECT * FROM director\"\n",
    "\n",
    "# Execute the query\n",
    "cursor.execute(query)\n",
    "\n",
    "# Fetch all the rows\n",
    "rows = cursor.fetchall()\n",
    "\n",
    "# Create an empty list\n",
    "data_list = []\n",
    "\n",
    "# Iterate over the rows and extract values into the list\n",
    "for row in rows:\n",
    "    value1 = row[0]\n",
    "    value2 = row[1]\n",
    "    dictionary = {'id': value1, 'name': value2}\n",
    "    data_list.append(dictionary)\n",
    "\n",
    "# Close the cursor and the connection\n",
    "cursor.close()\n",
    "connection.close()"
   ]
  },
  {
   "cell_type": "code",
   "execution_count": 3,
   "id": "873b005e",
   "metadata": {},
   "outputs": [],
   "source": [
    "df = pd.read_csv('../data/movies.csv')"
   ]
  },
  {
   "cell_type": "code",
   "execution_count": 4,
   "id": "8d387e0d",
   "metadata": {},
   "outputs": [],
   "source": [
    "df['directors'] = df['directors'].apply(lambda x: [x] if ',' not in x else x.split(','))\n",
    "\n",
    "df['directors'] = df['directors'].apply(lambda x: list(set(x)))\n",
    "\n",
    "df_new = df[['id', 'directors']]\n",
    "\n",
    "df_new = df_new.explode('directors')"
   ]
  },
  {
   "cell_type": "code",
   "execution_count": 5,
   "id": "01cec5c0",
   "metadata": {},
   "outputs": [],
   "source": [
    "movies_list = df_new.to_dict(orient='records')\n",
    "\n",
    "\n",
    "mapping = []\n",
    "for movie in movies_list:\n",
    "    movie_id = movie['id']\n",
    "    director_name = movie['directors']\n",
    "    for director in data_list:\n",
    "        if director['name'] == director_name:\n",
    "            director_id = director['id']\n",
    "            new_movie = {'movie_id': movie_id, 'director_id': director_id}\n",
    "            mapping.append(new_movie)\n",
    "            break"
   ]
  },
  {
   "cell_type": "code",
   "execution_count": 6,
   "id": "93b1f724",
   "metadata": {},
   "outputs": [],
   "source": [
    "# Connect to MSSQL database\n",
    "server = 'localhost'\n",
    "database = 'BockBluster'\n",
    "username = 'sa'\n",
    "password = 'thisIsSuperStrong1234'\n",
    "\n",
    "connection = pymssql.connect(server=server, database=database, user=username, password=password)\n",
    "\n",
    "# Insert dictionaries into the table\n",
    "cursor = connection.cursor()\n",
    "for dictionary in mapping:\n",
    "    cursor.execute(\"INSERT INTO movie_director (movie_id, director_id) VALUES (%s, %s)\", (dictionary['movie_id'], dictionary['director_id']))\n",
    "\n",
    "# Commit the changes and close the connection\n",
    "connection.commit()\n",
    "connection.close()"
   ]
  }
 ],
 "metadata": {
  "kernelspec": {
   "display_name": "Python 3 (ipykernel)",
   "language": "python",
   "name": "python3"
  },
  "language_info": {
   "codemirror_mode": {
    "name": "ipython",
    "version": 3
   },
   "file_extension": ".py",
   "mimetype": "text/x-python",
   "name": "python",
   "nbconvert_exporter": "python",
   "pygments_lexer": "ipython3",
   "version": "3.9.12"
  }
 },
 "nbformat": 4,
 "nbformat_minor": 5
}
