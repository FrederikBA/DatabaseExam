{
 "cells": [
  {
   "cell_type": "code",
   "execution_count": 1,
   "id": "664156d0",
   "metadata": {},
   "outputs": [],
   "source": [
    "import pandas as pd\n",
    "import csv\n",
    "import pymssql"
   ]
  },
  {
   "cell_type": "code",
   "execution_count": 2,
   "id": "d81cf394",
   "metadata": {},
   "outputs": [],
   "source": [
    "# Connect to MSSQL database\n",
    "server = 'localhost'\n",
    "database = 'BockBluster'\n",
    "username = 'sa'\n",
    "password = 'thisIsSuperStrong1234'\n",
    "\n",
    "connection = pymssql.connect(server=server, database=database, user=username, password=password)\n",
    "cursor = connection.cursor()\n",
    "\n",
    "# Define the SQL query\n",
    "query = \"SELECT * FROM actor\"\n",
    "\n",
    "# Execute the query\n",
    "cursor.execute(query)\n",
    "\n",
    "# Fetch all the rows\n",
    "rows = cursor.fetchall()\n",
    "\n",
    "# Create an empty list\n",
    "data_list = []\n",
    "\n",
    "# Iterate over the rows and extract values into the list\n",
    "for row in rows:\n",
    "    value1 = row[0]\n",
    "    value2 = row[1]\n",
    "    dictionary = {'id': value1, 'name': value2}\n",
    "    data_list.append(dictionary)\n",
    "\n",
    "# Close the cursor and the connection\n",
    "cursor.close()\n",
    "connection.close()"
   ]
  },
  {
   "cell_type": "code",
   "execution_count": 3,
   "id": "8a308593",
   "metadata": {},
   "outputs": [],
   "source": [
    "df = pd.read_csv('../data/movies.csv')"
   ]
  },
  {
   "cell_type": "code",
   "execution_count": 4,
   "id": "4258b0ab",
   "metadata": {},
   "outputs": [],
   "source": [
    "df['actors'] = df['actors'].apply(lambda x: x.split(', '))\n",
    "\n",
    "df['actors'] = df['actors'].apply(lambda x: list(set(x)))\n",
    "\n",
    "df_new = df[['id', 'actors']]\n",
    "\n",
    "df_new = df_new.explode('actors')"
   ]
  },
  {
   "cell_type": "code",
   "execution_count": 5,
   "id": "01c5872d",
   "metadata": {},
   "outputs": [],
   "source": [
    "movies_list = df_new.to_dict(orient='records')\n",
    "\n",
    "\n",
    "mapping = []\n",
    "for movie in movies_list:\n",
    "    movie_id = movie['id']\n",
    "    actor_name = movie['actors']\n",
    "    for actor in data_list:\n",
    "        if actor['name'] == actor_name:\n",
    "            actor_id = actor['id']\n",
    "            new_movie = {'movie_id': movie_id, 'actor_id': actor_id}\n",
    "            mapping.append(new_movie)\n",
    "            break"
   ]
  },
  {
   "cell_type": "code",
   "execution_count": 6,
   "id": "89e501d0",
   "metadata": {},
   "outputs": [],
   "source": [
    "# Connect to MSSQL database\n",
    "server = 'localhost'\n",
    "database = 'BockBluster'\n",
    "username = 'sa'\n",
    "password = 'thisIsSuperStrong1234'\n",
    "\n",
    "connection = pymssql.connect(server=server, database=database, user=username, password=password)\n",
    "\n",
    "# Insert dictionaries into the table\n",
    "cursor = connection.cursor()\n",
    "for dictionary in mapping:\n",
    "    cursor.execute(\"INSERT INTO movie_actor (movie_id, actor_id) VALUES (%s, %s)\", (dictionary['movie_id'], dictionary['actor_id']))\n",
    "\n",
    "# Commit the changes and close the connection\n",
    "connection.commit()\n",
    "connection.close()"
   ]
  }
 ],
 "metadata": {
  "kernelspec": {
   "display_name": "Python 3 (ipykernel)",
   "language": "python",
   "name": "python3"
  },
  "language_info": {
   "codemirror_mode": {
    "name": "ipython",
    "version": 3
   },
   "file_extension": ".py",
   "mimetype": "text/x-python",
   "name": "python",
   "nbconvert_exporter": "python",
   "pygments_lexer": "ipython3",
   "version": "3.9.12"
  }
 },
 "nbformat": 4,
 "nbformat_minor": 5
}
