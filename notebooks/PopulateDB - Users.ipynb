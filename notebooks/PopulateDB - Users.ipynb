{
 "cells": [
  {
   "cell_type": "code",
   "execution_count": 1,
   "id": "57e166d9",
   "metadata": {},
   "outputs": [],
   "source": [
    "from datetime import datetime\n",
    "import pymssql\n",
    "import uuid"
   ]
  },
  {
   "cell_type": "markdown",
   "id": "52373df2",
   "metadata": {},
   "source": [
    "### Members"
   ]
  },
  {
   "cell_type": "code",
   "execution_count": 2,
   "id": "5236b23b",
   "metadata": {},
   "outputs": [
    {
     "data": {
      "text/plain": [
       "[{'member_id': 'a3995482-e3e3-43e2-b06d-cff44fc1f87b',\n",
       "  'first_name': 'John',\n",
       "  'last_name': 'Doe',\n",
       "  'join_date': datetime.datetime(2023, 5, 18, 12, 12, 24, 169146)},\n",
       " {'member_id': '17efc5c9-7ceb-4ba8-bd60-b16b7e8c4882',\n",
       "  'first_name': 'Jane',\n",
       "  'last_name': 'Smith',\n",
       "  'join_date': datetime.datetime(2023, 5, 18, 12, 12, 24, 169146)},\n",
       " {'member_id': '63e9d450-e1ce-4321-8f3c-6b972f17a7b4',\n",
       "  'first_name': 'Robert',\n",
       "  'last_name': 'Johnson',\n",
       "  'join_date': datetime.datetime(2023, 5, 18, 12, 12, 24, 169146)}]"
      ]
     },
     "execution_count": 2,
     "metadata": {},
     "output_type": "execute_result"
    }
   ],
   "source": [
    "current_datetime = datetime.now()\n",
    "\n",
    "members = [{\n",
    "    \"member_id\": str(uuid.uuid4()),\n",
    "    \"first_name\": \"John\",\n",
    "    \"last_name\": \"Doe\",\n",
    "    \"join_date\": current_datetime\n",
    "},\n",
    "{\n",
    "    \"member_id\": str(uuid.uuid4()),\n",
    "    \"first_name\": \"Jane\",\n",
    "    \"last_name\": \"Smith\",\n",
    "    \"join_date\": current_datetime\n",
    "},\n",
    "{\n",
    "    \"member_id\": str(uuid.uuid4()),\n",
    "    \"first_name\": \"Robert\",\n",
    "    \"last_name\": \"Johnson\",\n",
    "    \"join_date\": current_datetime\n",
    "}]\n",
    "\n",
    "members"
   ]
  },
  {
   "cell_type": "code",
   "execution_count": 3,
   "id": "2d165f08",
   "metadata": {},
   "outputs": [],
   "source": [
    "# Connect to MSSQL database\n",
    "server = 'localhost'\n",
    "database = 'BockBluster'\n",
    "username = 'sa'\n",
    "password = 'thisIsSuperStrong1234'\n",
    "\n",
    "connection = pymssql.connect(server=server, database=database, user=username, password=password)\n",
    "cursor = connection.cursor()\n",
    "\n",
    "# Insert dictionaries into the table\n",
    "cursor = connection.cursor()\n",
    "for member in members:\n",
    "    cursor.execute(\"INSERT INTO member (member_id, first_name, last_name, join_date) VALUES (%s, %s, %s, %s)\", (member['member_id'], member['first_name'], member['last_name'], member['join_date']))\n",
    "\n",
    "# Commit the changes and close the connection\n",
    "connection.commit()\n",
    "connection.close()"
   ]
  },
  {
   "cell_type": "markdown",
   "id": "149e70a8",
   "metadata": {},
   "source": [
    "### Users"
   ]
  },
  {
   "cell_type": "code",
   "execution_count": 4,
   "id": "9a695846",
   "metadata": {},
   "outputs": [],
   "source": [
    "# Connect to MSSQL database\n",
    "server = 'localhost'\n",
    "database = 'BockBluster'\n",
    "username = 'sa'\n",
    "password = 'thisIsSuperStrong1234'\n",
    "\n",
    "connection = pymssql.connect(server=server, database=database, user=username, password=password)\n",
    "cursor = connection.cursor()\n",
    "\n",
    "# Define the SQL query\n",
    "query = \"SELECT * FROM member\"\n",
    "\n",
    "# Execute the query\n",
    "cursor.execute(query)\n",
    "\n",
    "# Fetch all the rows\n",
    "rows = cursor.fetchall()\n",
    "\n",
    "# Create an empty list\n",
    "member_ids = []\n",
    "\n",
    "# Iterate over the rows and extract values into the list\n",
    "for row in rows:\n",
    "    member_id = row[0]\n",
    "    member_ids.append(member_id)\n",
    "\n",
    "# Close the cursor and the connection\n",
    "cursor.close()\n",
    "connection.close()"
   ]
  },
  {
   "cell_type": "code",
   "execution_count": 5,
   "id": "3e83d047",
   "metadata": {},
   "outputs": [],
   "source": [
    "users = [{\n",
    "    \"user_id\": 1,\n",
    "    \"member_id\": member_ids[0],\n",
    "    \"username\": \"user1\",\n",
    "    \"password\": \"123\"\n",
    "},\n",
    "{\n",
    "    \"user_id\": 2,\n",
    "    \"member_id\": member_ids[1],\n",
    "    \"username\": \"user2\",\n",
    "    \"password\": \"123\"\n",
    "},\n",
    "{\n",
    "    \"user_id\": 3,\n",
    "    \"member_id\": member_ids[2],\n",
    "    \"username\": \"user3\",\n",
    "    \"password\": \"123\"\n",
    "}]"
   ]
  },
  {
   "cell_type": "code",
   "execution_count": 6,
   "id": "7775a1dc",
   "metadata": {},
   "outputs": [],
   "source": [
    "# Connect to MSSQL database\n",
    "server = 'localhost'\n",
    "database = 'BockBluster'\n",
    "username = 'sa'\n",
    "password = 'thisIsSuperStrong1234'\n",
    "\n",
    "connection = pymssql.connect(server=server, database=database, user=username, password=password)\n",
    "cursor = connection.cursor()\n",
    "\n",
    "# Insert dictionaries into the table\n",
    "cursor = connection.cursor()\n",
    "for user in users:\n",
    "    cursor.execute(\"INSERT INTO user_login (user_id, member_id, username, password) VALUES (%s, %s, %s, %s)\", (user['user_id'], user['member_id'], user['username'], user['password']))\n",
    "\n",
    "# Commit the changes and close the connection\n",
    "connection.commit()\n",
    "connection.close()"
   ]
  }
 ],
 "metadata": {
  "kernelspec": {
   "display_name": "Python 3 (ipykernel)",
   "language": "python",
   "name": "python3"
  },
  "language_info": {
   "codemirror_mode": {
    "name": "ipython",
    "version": 3
   },
   "file_extension": ".py",
   "mimetype": "text/x-python",
   "name": "python",
   "nbconvert_exporter": "python",
   "pygments_lexer": "ipython3",
   "version": "3.10.10"
  }
 },
 "nbformat": 4,
 "nbformat_minor": 5
}
