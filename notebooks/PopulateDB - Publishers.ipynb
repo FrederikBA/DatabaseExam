{
 "cells": [
  {
   "cell_type": "code",
   "execution_count": 1,
   "id": "de2a5025",
   "metadata": {},
   "outputs": [],
   "source": [
    "import pandas as pd\n",
    "from ast import literal_eval\n",
    "import csv\n",
    "import pymssql"
   ]
  },
  {
   "cell_type": "code",
   "execution_count": 2,
   "id": "e15cbe55",
   "metadata": {},
   "outputs": [],
   "source": [
    "def get_unique_strings(list_of_lists):\n",
    "    unique_strings = set()\n",
    "    for sublist in list_of_lists:\n",
    "        for item in sublist:\n",
    "            if isinstance(item, str):\n",
    "                unique_strings.add(item)\n",
    "    return list(unique_strings)"
   ]
  },
  {
   "cell_type": "code",
   "execution_count": 3,
   "id": "3e37e175",
   "metadata": {},
   "outputs": [],
   "source": [
    "df = pd.read_csv('../data/movies.csv')\n",
    "\n",
    "df['publishers'] = df['publishers'].apply(literal_eval)\n",
    "\n",
    "strings = get_unique_strings(df['publishers'])\n",
    "\n",
    "dict_list = []\n",
    "for i, string in enumerate(strings, start=1):\n",
    "    dictionary = {'id': i, 'name': string}\n",
    "    dict_list.append(dictionary)\n",
    "    \n"
   ]
  },
  {
   "cell_type": "code",
   "execution_count": 4,
   "id": "686d2872",
   "metadata": {},
   "outputs": [],
   "source": [
    "# Connect to MSSQL database\n",
    "server = 'localhost'\n",
    "database = 'BockBluster'\n",
    "username = 'sa'\n",
    "password = 'thisIsSuperStrong1234'\n",
    "\n",
    "connection = pymssql.connect(server=server, database=database, user=username, password=password)\n",
    "\n",
    "# Insert dictionaries into the table\n",
    "cursor = connection.cursor()\n",
    "for dictionary in dict_list:\n",
    "    cursor.execute(\"INSERT INTO publisher (publisher_id, name) VALUES (%s, %s)\", (dictionary['id'], dictionary['name']))\n",
    "\n",
    "# Commit the changes and close the connection\n",
    "connection.commit()\n",
    "connection.close()"
   ]
  }
 ],
 "metadata": {
  "kernelspec": {
   "display_name": "Python 3 (ipykernel)",
   "language": "python",
   "name": "python3"
  },
  "language_info": {
   "codemirror_mode": {
    "name": "ipython",
    "version": 3
   },
   "file_extension": ".py",
   "mimetype": "text/x-python",
   "name": "python",
   "nbconvert_exporter": "python",
   "pygments_lexer": "ipython3",
   "version": "3.10.10"
  }
 },
 "nbformat": 4,
 "nbformat_minor": 5
}
