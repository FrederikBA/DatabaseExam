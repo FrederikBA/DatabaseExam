{
 "cells": [
  {
   "cell_type": "code",
   "execution_count": 6,
   "id": "0261ebb7",
   "metadata": {},
   "outputs": [],
   "source": [
    "import redis"
   ]
  },
  {
   "cell_type": "code",
   "execution_count": 9,
   "id": "98b13d03",
   "metadata": {},
   "outputs": [
    {
     "name": "stdout",
     "output_type": "stream",
     "text": [
      "[[host=127.0.0.1,port=7006,name=127.0.0.1:7006,server_type=primary,redis_connection=Redis<ConnectionPool<Connection<host=127.0.0.1,port=7006,db=0>>>], [host=127.0.0.1,port=7003,name=127.0.0.1:7003,server_type=replica,redis_connection=Redis<ConnectionPool<Connection<host=127.0.0.1,port=7003,db=0>>>], [host=127.0.0.1,port=7001,name=127.0.0.1:7001,server_type=primary,redis_connection=Redis<ConnectionPool<Connection<host=127.0.0.1,port=7001,db=0>>>], [host=127.0.0.1,port=7004,name=127.0.0.1:7004,server_type=replica,redis_connection=Redis<ConnectionPool<Connection<host=127.0.0.1,port=7004,db=0>>>], [host=127.0.0.1,port=7002,name=127.0.0.1:7002,server_type=primary,redis_connection=Redis<ConnectionPool<Connection<host=127.0.0.1,port=7002,db=0>>>], [host=127.0.0.1,port=7005,name=127.0.0.1:7005,server_type=replica,redis_connection=Redis<ConnectionPool<Connection<host=127.0.0.1,port=7005,db=0>>>]]\n"
     ]
    },
    {
     "data": {
      "text/plain": [
       "b'bar'"
      ]
     },
     "execution_count": 9,
     "metadata": {},
     "output_type": "execute_result"
    }
   ],
   "source": [
    "from redis.cluster import RedisCluster\n",
    "\n",
    "rc = RedisCluster(host='localhost', port=7002)\n",
    "\n",
    "print(rc.get_nodes())\n",
    "# [[host=127.0.0.1,port=16379,name=127.0.0.1:16379,server_type=primary,redis_connection=Redis<ConnectionPool<Connection<host=127.0.0.1,port=16379,db=0>>>], ...\n",
    "\n",
    "rc.set('foo', 'bar')\n",
    "# True\n",
    "\n",
    "rc.get('foo')\n",
    "# b'bar'"
   ]
  }
 ],
 "metadata": {
  "kernelspec": {
   "display_name": "Python 3 (ipykernel)",
   "language": "python",
   "name": "python3"
  },
  "language_info": {
   "codemirror_mode": {
    "name": "ipython",
    "version": 3
   },
   "file_extension": ".py",
   "mimetype": "text/x-python",
   "name": "python",
   "nbconvert_exporter": "python",
   "pygments_lexer": "ipython3",
   "version": "3.10.10"
  }
 },
 "nbformat": 4,
 "nbformat_minor": 5
}
