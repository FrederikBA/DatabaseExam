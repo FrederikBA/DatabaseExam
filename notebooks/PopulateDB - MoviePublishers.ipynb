{
 "cells": [
  {
   "cell_type": "code",
   "execution_count": 1,
   "id": "634a83e0",
   "metadata": {},
   "outputs": [],
   "source": [
    "import pandas as pd\n",
    "import csv\n",
    "import pymssql\n",
    "from ast import literal_eval"
   ]
  },
  {
   "cell_type": "code",
   "execution_count": 2,
   "id": "ad8bad42",
   "metadata": {},
   "outputs": [],
   "source": [
    "# Connect to MSSQL database\n",
    "server = 'localhost'\n",
    "database = 'BockBluster'\n",
    "username = 'sa'\n",
    "password = 'thisIsSuperStrong1234'\n",
    "\n",
    "connection = pymssql.connect(server=server, database=database, user=username, password=password)\n",
    "cursor = connection.cursor()\n",
    "\n",
    "# Define the SQL query\n",
    "query = \"SELECT * FROM publisher\"\n",
    "\n",
    "# Execute the query\n",
    "cursor.execute(query)\n",
    "\n",
    "# Fetch all the rows\n",
    "rows = cursor.fetchall()\n",
    "\n",
    "# Create an empty list\n",
    "data_list = []\n",
    "\n",
    "# Iterate over the rows and extract values into the list\n",
    "for row in rows:\n",
    "    value1 = row[0]\n",
    "    value2 = row[1]\n",
    "    dictionary = {'id': value1, 'name': value2}\n",
    "    data_list.append(dictionary)\n",
    "\n",
    "# Close the cursor and the connection\n",
    "cursor.close()\n",
    "connection.close()"
   ]
  },
  {
   "cell_type": "code",
   "execution_count": 3,
   "id": "f421199d",
   "metadata": {},
   "outputs": [],
   "source": [
    "df = pd.read_csv('../data/movies.csv')"
   ]
  },
  {
   "cell_type": "code",
   "execution_count": 4,
   "id": "d7350307",
   "metadata": {},
   "outputs": [],
   "source": [
    "df['publishers'] = df['publishers'].apply(literal_eval)\n",
    "\n",
    "df['publishers'] = df['publishers'].apply(lambda x: list(set(x)))\n",
    "\n",
    "df_new = df[['id', 'publishers']]\n",
    "\n",
    "df_new = df_new.explode('publishers')"
   ]
  },
  {
   "cell_type": "code",
   "execution_count": 5,
   "id": "1b7f2d8a",
   "metadata": {},
   "outputs": [],
   "source": [
    "movies_list = df_new.to_dict(orient='records')\n",
    "\n",
    "\n",
    "mapping = []\n",
    "for movie in movies_list:\n",
    "    movie_id = movie['id']\n",
    "    publisher_name = movie['publishers']\n",
    "    for publisher in data_list:\n",
    "        if publisher['name'] == publisher_name:\n",
    "            publisher_id = publisher['id']\n",
    "            new_movie = {'movie_id': movie_id, 'publisher_id': publisher_id}\n",
    "            mapping.append(new_movie)\n",
    "            break"
   ]
  },
  {
   "cell_type": "code",
   "execution_count": 6,
   "id": "2bfb210d",
   "metadata": {},
   "outputs": [],
   "source": [
    "# Connect to MSSQL database\n",
    "server = 'localhost'\n",
    "database = 'BockBluster'\n",
    "username = 'sa'\n",
    "password = 'thisIsSuperStrong1234'\n",
    "\n",
    "connection = pymssql.connect(server=server, database=database, user=username, password=password)\n",
    "\n",
    "# Insert dictionaries into the table\n",
    "cursor = connection.cursor()\n",
    "for dictionary in mapping:\n",
    "    cursor.execute(\"INSERT INTO movie_publishers (movie_id, publisher_id) VALUES (%s, %s)\", (dictionary['movie_id'], dictionary['publisher_id']))\n",
    "\n",
    "# Commit the changes and close the connection\n",
    "connection.commit()\n",
    "connection.close()"
   ]
  }
 ],
 "metadata": {
  "kernelspec": {
   "display_name": "Python 3 (ipykernel)",
   "language": "python",
   "name": "python3"
  },
  "language_info": {
   "codemirror_mode": {
    "name": "ipython",
    "version": 3
   },
   "file_extension": ".py",
   "mimetype": "text/x-python",
   "name": "python",
   "nbconvert_exporter": "python",
   "pygments_lexer": "ipython3",
   "version": "3.9.12"
  }
 },
 "nbformat": 4,
 "nbformat_minor": 5
}
