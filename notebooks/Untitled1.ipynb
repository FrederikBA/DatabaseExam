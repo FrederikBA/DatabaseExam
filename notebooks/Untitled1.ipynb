{
 "cells": [
  {
   "cell_type": "code",
   "execution_count": 11,
   "id": "5d4fd377",
   "metadata": {},
   "outputs": [],
   "source": [
    "# Version 1: Movie Recommender based on summaries\n",
    "# Import TensorFlow and hub\n",
    "import tensorflow as tf\n",
    "import tensorflow_hub as hub\n",
    "\n",
    "# some important packages\n",
    "import os\n",
    "import re\n",
    "import numpy as np\n",
    "import pandas as pd\n",
    "\n",
    "\n",
    "model_url = \"https://tfhub.dev/google/universal-sentence-encoder/4\"\n",
    "model = hub.load(model_url)\n",
    "\n",
    "def embed(texts):\n",
    "    return model(texts)\n",
    "\n",
    "df = pd.read_csv(\"../data/movies.csv\")\n",
    "\n",
    "#summaries = list(df['summary'])\n",
    "embeddings = embed(summaries)\n",
    "\n",
    "# Convert the embeddings to list format so they can be stored in a DataFrame\n",
    "embeddings_list = [embedding.numpy().tolist() for embedding in embeddings]\n",
    "\n",
    "# Create a new column in the DataFrame for embeddings\n",
    "df['embeddings'] = embeddings_list\n",
    "\n",
    "# Assume embeddings is an array with shape [num_movies, embedding_dim]\n",
    "num_movies, embedding_dim = embeddings.shape\n",
    "\n",
    "# Convert embeddings to a DataFrame\n",
    "embeddings_df = pd.DataFrame(embeddings.numpy(), \n",
    "                             columns=[f'embedding_{i}' for i in range(embedding_dim)])\n",
    "\n",
    "# Concatenate the original DataFrame with the embeddings DataFrame\n",
    "df = pd.concat([df, embeddings_df], axis=1)\n",
    "\n",
    "# Save the DataFrame\n",
    "df.to_csv(\"../data/movies_with_embeddings.csv\", index=False)"
   ]
  },
  {
   "cell_type": "code",
   "execution_count": null,
   "id": "7a214035",
   "metadata": {},
   "outputs": [],
   "source": []
  }
 ],
 "metadata": {
  "kernelspec": {
   "display_name": "Python 3 (ipykernel)",
   "language": "python",
   "name": "python3"
  },
  "language_info": {
   "codemirror_mode": {
    "name": "ipython",
    "version": 3
   },
   "file_extension": ".py",
   "mimetype": "text/x-python",
   "name": "python",
   "nbconvert_exporter": "python",
   "pygments_lexer": "ipython3",
   "version": "3.10.11"
  }
 },
 "nbformat": 4,
 "nbformat_minor": 5
}
