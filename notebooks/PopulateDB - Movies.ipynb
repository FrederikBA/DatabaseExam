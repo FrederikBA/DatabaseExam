{
 "cells": [
  {
   "cell_type": "code",
   "execution_count": 1,
   "id": "634a83e0",
   "metadata": {},
   "outputs": [],
   "source": [
    "import pandas as pd\n",
    "import csv\n",
    "import pymssql\n",
    "from ast import literal_eval"
   ]
  },
  {
   "cell_type": "code",
   "execution_count": 2,
   "id": "f6135a4b",
   "metadata": {},
   "outputs": [],
   "source": [
    "def get_unique_strings(list_of_lists):\n",
    "    unique_strings = set()\n",
    "    for sublist in list_of_lists:\n",
    "        for item in sublist:\n",
    "            if isinstance(item, str):\n",
    "                unique_strings.add(item)\n",
    "    return list(unique_strings)"
   ]
  },
  {
   "cell_type": "code",
   "execution_count": 5,
   "id": "ad8bad42",
   "metadata": {},
   "outputs": [],
   "source": [
    "# Connect to MSSQL database\n",
    "server = 'localhost'\n",
    "database = 'BockBluster'\n",
    "username = 'sa'\n",
    "password = 'thisIsSuperStrong1234'\n",
    "\n",
    "connection = pymssql.connect(server=server, database=database, user=username, password=password)\n",
    "cursor = connection.cursor()\n",
    "\n",
    "# Define the SQL query\n",
    "query = \"SELECT * FROM publisher\"\n",
    "\n",
    "# Execute the query\n",
    "cursor.execute(query)\n",
    "\n",
    "# Fetch all the rows\n",
    "rows = cursor.fetchall()\n",
    "\n",
    "# Create an empty list\n",
    "data_list = []\n",
    "\n",
    "# Iterate over the rows and extract values into the list\n",
    "for row in rows:\n",
    "    value1 = row[0]\n",
    "    value2 = row[1]\n",
    "    dictionary = {'id': value1, 'name': value2}\n",
    "    data_list.append(dictionary)\n",
    "\n",
    "# Close the cursor and the connection\n",
    "cursor.close()\n",
    "connection.close()"
   ]
  },
  {
   "cell_type": "code",
   "execution_count": null,
   "id": "f421199d",
   "metadata": {},
   "outputs": [],
   "source": [
    "df = pd.read_csv('data/movies_new.csv')\n",
    "\n",
    "titles = df['title']\n",
    "\n",
    "dict_list = []\n",
    "for i, string in enumerate(titles, start=1):\n",
    "    dictionary = {'id': i, 'name': string}\n",
    "    dict_list.append(dictionary)"
   ]
  }
 ],
 "metadata": {
  "kernelspec": {
   "display_name": "Python 3 (ipykernel)",
   "language": "python",
   "name": "python3"
  },
  "language_info": {
   "codemirror_mode": {
    "name": "ipython",
    "version": 3
   },
   "file_extension": ".py",
   "mimetype": "text/x-python",
   "name": "python",
   "nbconvert_exporter": "python",
   "pygments_lexer": "ipython3",
   "version": "3.10.10"
  }
 },
 "nbformat": 4,
 "nbformat_minor": 5
}
