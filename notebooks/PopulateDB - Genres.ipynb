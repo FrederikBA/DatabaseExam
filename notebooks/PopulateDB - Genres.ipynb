{
 "cells": [
  {
   "cell_type": "code",
   "execution_count": 1,
   "id": "12dd5175",
   "metadata": {},
   "outputs": [],
   "source": [
    "import pandas as pd\n",
    "from ast import literal_eval\n",
    "import csv\n",
    "import pymssql"
   ]
  },
  {
   "cell_type": "code",
   "execution_count": 2,
   "id": "09aa33fc",
   "metadata": {},
   "outputs": [],
   "source": [
    "def get_unique_strings(list_of_lists):\n",
    "    unique_strings = set()\n",
    "    for sublist in list_of_lists:\n",
    "        for item in sublist:\n",
    "            if isinstance(item, str):\n",
    "                unique_strings.add(item)\n",
    "    return list(unique_strings)"
   ]
  },
  {
   "cell_type": "code",
   "execution_count": 3,
   "id": "f08f17f6",
   "metadata": {},
   "outputs": [
    {
     "data": {
      "text/plain": [
       "[{'id': 1, 'name': 'Family'},\n",
       " {'id': 2, 'name': 'Crime'},\n",
       " {'id': 3, 'name': 'Mystery'},\n",
       " {'id': 4, 'name': 'Fantasy'},\n",
       " {'id': 5, 'name': 'Animation'},\n",
       " {'id': 6, 'name': 'Drama'},\n",
       " {'id': 7, 'name': 'Thriller'},\n",
       " {'id': 8, 'name': 'Musical'},\n",
       " {'id': 9, 'name': 'War'},\n",
       " {'id': 10, 'name': 'Sci-Fi'},\n",
       " {'id': 11, 'name': 'Horror'},\n",
       " {'id': 12, 'name': 'Documentary'},\n",
       " {'id': 13, 'name': 'Biography'},\n",
       " {'id': 14, 'name': 'Adventure'},\n",
       " {'id': 15, 'name': 'Music'},\n",
       " {'id': 16, 'name': 'Comedy'},\n",
       " {'id': 17, 'name': 'Romance'},\n",
       " {'id': 18, 'name': 'Western'},\n",
       " {'id': 19, 'name': 'Sport'},\n",
       " {'id': 20, 'name': 'Action'},\n",
       " {'id': 21, 'name': 'History'}]"
      ]
     },
     "execution_count": 3,
     "metadata": {},
     "output_type": "execute_result"
    }
   ],
   "source": [
    "df = pd.read_csv('../data/movies.csv')\n",
    "\n",
    "    df['genre'] = df['genre'].apply(lambda x: x.split(', '))\n",
    "\n",
    "    strings = get_unique_strings(df['genre'])\n",
    "\n",
    "    dict_list = []\n",
    "    for i, string in enumerate(strings, start=1):\n",
    "        dictionary = {'id': i, 'name': string}\n",
    "        dict_list.append(dictionary)\n",
    "    dict_list"
   ]
  },
  {
   "cell_type": "code",
   "execution_count": 4,
   "id": "ffb4a799",
   "metadata": {},
   "outputs": [],
   "source": [
    "# Connect to MSSQL database\n",
    "server = 'localhost'\n",
    "database = 'BockBluster'\n",
    "username = 'sa'\n",
    "password = 'thisIsSuperStrong1234'\n",
    "\n",
    "connection = pymssql.connect(server=server, database=database, user=username, password=password)\n",
    "# Insert dictionaries into the table\n",
    "cursor = connection.cursor()\n",
    "for dictionary in dict_list:\n",
    "    cursor.execute(\"INSERT INTO genre(genre_id, genre_name) VALUES (%s, %s)\", (dictionary['id'], dictionary['name']))\n",
    "\n",
    "# Commit the changes and close the connection\n",
    "connection.commit()\n",
    "connection.close()"
   ]
  }
 ],
 "metadata": {
  "kernelspec": {
   "display_name": "Python 3 (ipykernel)",
   "language": "python",
   "name": "python3"
  },
  "language_info": {
   "codemirror_mode": {
    "name": "ipython",
    "version": 3
   },
   "file_extension": ".py",
   "mimetype": "text/x-python",
   "name": "python",
   "nbconvert_exporter": "python",
   "pygments_lexer": "ipython3",
   "version": "3.9.12"
  }
 },
 "nbformat": 4,
 "nbformat_minor": 5
}
