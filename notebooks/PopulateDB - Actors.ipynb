{
 "cells": [
  {
   "cell_type": "code",
   "execution_count": 1,
   "id": "8de88784",
   "metadata": {},
   "outputs": [],
   "source": [
    "import pandas as pd\n",
    "from ast import literal_eval\n",
    "import csv\n",
    "import pymssql"
   ]
  },
  {
   "cell_type": "code",
   "execution_count": 2,
   "id": "5f989aec",
   "metadata": {},
   "outputs": [],
   "source": [
    "def get_unique_strings(list_of_lists):\n",
    "    unique_strings = set()\n",
    "    for sublist in list_of_lists:\n",
    "        for item in sublist:\n",
    "            if isinstance(item, str):\n",
    "                unique_strings.add(item)\n",
    "    return list(unique_strings)"
   ]
  },
  {
   "cell_type": "code",
   "execution_count": 3,
   "id": "f13cd150",
   "metadata": {},
   "outputs": [],
   "source": [
    "df = pd.read_csv('../data/movies.csv')\n",
    "\n",
    "df['actors'] = df['actors'].apply(lambda x: x.split(', '))\n",
    "\n",
    "strings = get_unique_strings(df['actors'])\n",
    "\n",
    "dict_list = []\n",
    "for i, string in enumerate(strings, start=1):\n",
    "    dictionary = {'id': i, 'name': string}\n",
    "    dict_list.append(dictionary)"
   ]
  },
  {
   "cell_type": "code",
   "execution_count": 5,
   "id": "79f00f81",
   "metadata": {},
   "outputs": [
    {
     "ename": "OperationalError",
     "evalue": "(20009, b'DB-Lib error message 20009, severity 9:\\nUnable to connect: Adaptive Server is unavailable or does not exist (localhost)\\nNet-Lib error during Unknown error (10061)\\nDB-Lib error message 20009, severity 9:\\nUnable to connect: Adaptive Server is unavailable or does not exist (localhost)\\nNet-Lib error during Unknown error (10061)\\n')",
     "output_type": "error",
     "traceback": [
      "\u001b[1;31m---------------------------------------------------------------------------\u001b[0m",
      "\u001b[1;31mMSSQLDatabaseException\u001b[0m                    Traceback (most recent call last)",
      "File \u001b[1;32msrc\\pymssql\\_pymssql.pyx:647\u001b[0m, in \u001b[0;36mpymssql._pymssql.connect\u001b[1;34m()\u001b[0m\n",
      "File \u001b[1;32msrc\\pymssql\\_mssql.pyx:2109\u001b[0m, in \u001b[0;36mpymssql._mssql.connect\u001b[1;34m()\u001b[0m\n",
      "File \u001b[1;32msrc\\pymssql\\_mssql.pyx:701\u001b[0m, in \u001b[0;36mpymssql._mssql.MSSQLConnection.__init__\u001b[1;34m()\u001b[0m\n",
      "File \u001b[1;32msrc\\pymssql\\_mssql.pyx:1818\u001b[0m, in \u001b[0;36mpymssql._mssql.maybe_raise_MSSQLDatabaseException\u001b[1;34m()\u001b[0m\n",
      "File \u001b[1;32msrc\\pymssql\\_mssql.pyx:1835\u001b[0m, in \u001b[0;36mpymssql._mssql.raise_MSSQLDatabaseException\u001b[1;34m()\u001b[0m\n",
      "\u001b[1;31mMSSQLDatabaseException\u001b[0m: (20009, b'DB-Lib error message 20009, severity 9:\\nUnable to connect: Adaptive Server is unavailable or does not exist (localhost)\\nNet-Lib error during Unknown error (10061)\\nDB-Lib error message 20009, severity 9:\\nUnable to connect: Adaptive Server is unavailable or does not exist (localhost)\\nNet-Lib error during Unknown error (10061)\\n')",
      "\nDuring handling of the above exception, another exception occurred:\n",
      "\u001b[1;31mOperationalError\u001b[0m                          Traceback (most recent call last)",
      "Cell \u001b[1;32mIn [5], line 7\u001b[0m\n\u001b[0;32m      4\u001b[0m username \u001b[38;5;241m=\u001b[39m \u001b[38;5;124m'\u001b[39m\u001b[38;5;124msa\u001b[39m\u001b[38;5;124m'\u001b[39m\n\u001b[0;32m      5\u001b[0m password \u001b[38;5;241m=\u001b[39m \u001b[38;5;124m'\u001b[39m\u001b[38;5;124mthisIsSuperStrong1234\u001b[39m\u001b[38;5;124m'\u001b[39m\n\u001b[1;32m----> 7\u001b[0m connection \u001b[38;5;241m=\u001b[39m pymssql\u001b[38;5;241m.\u001b[39mconnect(server\u001b[38;5;241m=\u001b[39mserver, database\u001b[38;5;241m=\u001b[39mdatabase, user\u001b[38;5;241m=\u001b[39musername, password\u001b[38;5;241m=\u001b[39mpassword)\n\u001b[0;32m      8\u001b[0m cursor \u001b[38;5;241m=\u001b[39m connection\u001b[38;5;241m.\u001b[39mcursor()\n\u001b[0;32m     10\u001b[0m \u001b[38;5;66;03m# Insert dictionaries into the table\u001b[39;00m\n",
      "File \u001b[1;32msrc\\pymssql\\_pymssql.pyx:653\u001b[0m, in \u001b[0;36mpymssql._pymssql.connect\u001b[1;34m()\u001b[0m\n",
      "\u001b[1;31mOperationalError\u001b[0m: (20009, b'DB-Lib error message 20009, severity 9:\\nUnable to connect: Adaptive Server is unavailable or does not exist (localhost)\\nNet-Lib error during Unknown error (10061)\\nDB-Lib error message 20009, severity 9:\\nUnable to connect: Adaptive Server is unavailable or does not exist (localhost)\\nNet-Lib error during Unknown error (10061)\\n')"
     ]
    }
   ],
   "source": [
    "# Connect to MSSQL database\n",
    "server = 'localhost'\n",
    "database = 'BockBluster'\n",
    "username = 'sa'\n",
    "password = 'thisIsSuperStrong1234'\n",
    "\n",
    "connection = pymssql.connect(server=server, database=database, user=username, password=password)\n",
    "\n",
    "# Insert dictionaries into the table\n",
    "cursor = connection.cursor()\n",
    "for dictionary in dict_list:\n",
    "    cursor.execute(\"INSERT INTO actor (actor_id, name) VALUES (%s, %s)\", (dictionary['id'], dictionary['name']))\n",
    "\n",
    "# Commit the changes and close the connection\n",
    "connection.commit()\n",
    "connection.close()"
   ]
  },
  {
   "cell_type": "code",
   "execution_count": null,
   "id": "c0c6fbf8",
   "metadata": {},
   "outputs": [],
   "source": []
  }
 ],
 "metadata": {
  "kernelspec": {
   "display_name": "Python 3 (ipykernel)",
   "language": "python",
   "name": "python3"
  },
  "language_info": {
   "codemirror_mode": {
    "name": "ipython",
    "version": 3
   },
   "file_extension": ".py",
   "mimetype": "text/x-python",
   "name": "python",
   "nbconvert_exporter": "python",
   "pygments_lexer": "ipython3",
   "version": "3.10.10"
  }
 },
 "nbformat": 4,
 "nbformat_minor": 5
}
