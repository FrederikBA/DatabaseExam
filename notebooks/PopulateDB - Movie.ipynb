{
 "cells": [
  {
   "cell_type": "code",
   "execution_count": 4,
   "id": "36e2d594",
   "metadata": {},
   "outputs": [],
   "source": [
    "import pandas as pd\n",
    "from ast import literal_eval\n",
    "import csv\n",
    "import pymssql\n",
    "from datetime import datetime\n",
    "import pyodbc"
   ]
  },
  {
   "cell_type": "code",
   "execution_count": 5,
   "id": "f48efb2a",
   "metadata": {},
   "outputs": [],
   "source": [
    "df = pd.read_csv('../data/movies.csv')\n",
    "\n",
    "df = df[['id', 'title', 'release year', 'rating', 'Poster']]\n",
    "\n",
    "movies = []\n",
    "\n",
    "for i in range(len(df['release year'])):\n",
    "    df.at[i, 'release year'] = ''.join(filter(str.isdigit, str(df.at[i, 'release year'])))\n",
    "\n",
    "count = 0\n",
    "for index, row in df.iterrows():\n",
    "    count += 1\n",
    "    year_date = datetime.strptime(row['release year'], '%Y').year\n",
    "    movie = {\"id\": row['id'],'price_id': count, 'title': row['title'], 'release_year': year_date, 'rating': float(row['rating']), 'poster': row['Poster']}\n",
    "    movies.append(movie)"
   ]
  },
  {
   "cell_type": "code",
   "execution_count": 6,
   "id": "2843e018",
   "metadata": {},
   "outputs": [],
   "source": [
    "# Connect to MSSQL database\n",
    "#server = 'localhost'\n",
    "server = 'MSI\\SQLEXPRESSS'\n",
    "database = 'BockBluster'\n",
    "username = 'sa'\n",
    "password = 'thisIsSuperStrong1234'\n",
    "\n",
    "#connection = pymssql.connect(server=server, database=database, user=username, password=password)\n",
    "connection = pyodbc.connect('DRIVER={SQL Server};SERVER=' + server+';DATABASE='+database+';UID='+username+';PWD=' + password)\n",
    "\n",
    "# Insert dictionaries into the table\n",
    "cursor = connection.cursor()\n",
    "for dictionary in movies:\n",
    "    cursor.execute(\"INSERT INTO movie (movie_id, price_id, title, release_year, rating, poster) VALUES (?, ?, ?, ?, ?, ?)\", (dictionary['id'], dictionary['price_id'], dictionary['title'], dictionary['release_year'], dictionary['rating'], dictionary['poster']))\n",
    "\n",
    "# Commit the changes and close the connection\n",
    "connection.commit()\n",
    "connection.close()"
   ]
  },
  {
   "cell_type": "code",
   "execution_count": null,
   "id": "589ff860",
   "metadata": {},
   "outputs": [],
   "source": []
  }
 ],
 "metadata": {
  "kernelspec": {
   "display_name": "Python 3 (ipykernel)",
   "language": "python",
   "name": "python3"
  },
  "language_info": {
   "codemirror_mode": {
    "name": "ipython",
    "version": 3
   },
   "file_extension": ".py",
   "mimetype": "text/x-python",
   "name": "python",
   "nbconvert_exporter": "python",
   "pygments_lexer": "ipython3",
   "version": "3.9.12"
  }
 },
 "nbformat": 4,
 "nbformat_minor": 5
}
